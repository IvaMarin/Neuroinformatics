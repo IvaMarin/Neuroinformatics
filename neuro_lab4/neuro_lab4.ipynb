{
 "cells": [
  {
   "cell_type": "markdown",
   "id": "fffafa9c",
   "metadata": {},
   "source": [
    "# Лабораторная работа № 4\n",
    "## Сети с радиальными базисными элементами\n",
    "\n",
    "`Цель работы:` исследование свойств некоторых видов сетей с радиальными базисными элементами, алгоритмов обучения, а также применение сетей в задачах классификации и аппроксимации функции.\n",
    "\n",
    "|Студент| Мариничев И.А.|\n",
    "|-|-|\n",
    "|**Группа**| **М8О-408Б-19**|\n",
    "|**Вариант**| **5**|"
   ]
  },
  {
   "cell_type": "markdown",
   "id": "65ab7a18",
   "metadata": {},
   "source": [
    "Импортируем всё нобходимое"
   ]
  },
  {
   "cell_type": "code",
   "execution_count": 1,
   "id": "ea266536",
   "metadata": {},
   "outputs": [],
   "source": [
    "import numpy as np\n",
    "\n",
    "import torch\n",
    "import torch.nn as nn\n",
    "from torch.utils.data import TensorDataset, DataLoader\n",
    "\n",
    "from tqdm import tqdm\n",
    "\n",
    "import matplotlib.pyplot as plt\n",
    "\n",
    "from sklearn.model_selection import train_test_split"
   ]
  },
  {
   "cell_type": "markdown",
   "id": "2d7d2b12",
   "metadata": {},
   "source": [
    "Определим три группы точек (эллипсы с поворотом), соответствующие трем классам"
   ]
  },
  {
   "cell_type": "code",
   "execution_count": 2,
   "id": "65c0d9e1",
   "metadata": {},
   "outputs": [],
   "source": [
    "def ellipse(t, a, b, x0, y0):\n",
    "    x = x0 + a * np.cos(t)\n",
    "    y = y0 + b * np.sin(t)\n",
    "    return x, y"
   ]
  },
  {
   "cell_type": "code",
   "execution_count": 3,
   "id": "74457a1f",
   "metadata": {},
   "outputs": [],
   "source": [
    "def rotate(x, y, alpha):\n",
    "    xr = x * np.cos(alpha) - y * np.sin(alpha)\n",
    "    yr = x * np.sin(alpha) + y * np.cos(alpha)\n",
    "    return xr, yr"
   ]
  },
  {
   "cell_type": "code",
   "execution_count": 4,
   "id": "c8ffc0ca",
   "metadata": {},
   "outputs": [],
   "source": [
    "t = np.linspace(0, 2 * np.pi, 200)"
   ]
  },
  {
   "cell_type": "code",
   "execution_count": 5,
   "id": "fd906aae",
   "metadata": {},
   "outputs": [],
   "source": [
    "# Эллипс: a = 0.4, b = 0.15, α = π/6, x0 = −0.1, y0 = 0.15\n",
    "x1, y1 = ellipse(t, a=0.4, b=0.15, x0=-0.1, y0=0.15)\n",
    "x1, y1 = rotate(x1, y1, np.pi / 6.)"
   ]
  },
  {
   "cell_type": "code",
   "execution_count": 6,
   "id": "ec5cb6be",
   "metadata": {},
   "outputs": [],
   "source": [
    "# Эллипс: a = 0.7, b = 0.5, α = −π/3, x0 = 0, y0 = 0\n",
    "x2, y2 = ellipse(t, a=0.7, b=0.5, x0=0., y0=0.)\n",
    "x2, y2 = rotate(x2, y2, -np.pi / 3.)"
   ]
  },
  {
   "cell_type": "code",
   "execution_count": 7,
   "id": "0c503a80",
   "metadata": {},
   "outputs": [],
   "source": [
    "# Эллипс: a = 1, b = 1, α = 0, x0 = 0, y0 = 0\n",
    "x3, y3 = ellipse(t, a=1., b=1., x0=0., y0=0.)\n",
    "x3, y3 = rotate(x3, y3, 0.)"
   ]
  },
  {
   "cell_type": "code",
   "execution_count": 8,
   "id": "665bbc47",
   "metadata": {},
   "outputs": [],
   "source": [
    "points1 = [[x, y] for x, y in zip(x1, y1)]\n",
    "points2 = [[x, y] for x, y in zip(x2, y2)]\n",
    "points3 = [[x, y] for x, y in zip(x3, y3)]\n",
    "\n",
    "classes1 = [[1., 0., 0.] for _ in range(len(points1))]\n",
    "classes2 = [[0., 1., 0.] for _ in range(len(points2))]\n",
    "classes3 = [[0., 0., 1.] for _ in range(len(points3))]\n",
    "\n",
    "X = points1 + points2 + points3\n",
    "y = classes1 + classes2 + classes3"
   ]
  },
  {
   "cell_type": "markdown",
   "id": "644afcb5",
   "metadata": {},
   "source": [
    "И разделим данные на тренировочные и тестовые"
   ]
  },
  {
   "cell_type": "code",
   "execution_count": 9,
   "id": "bc44fbf5",
   "metadata": {},
   "outputs": [],
   "source": [
    "x_train, x_test, y_train, y_test = train_test_split(X, y, test_size=0.2, random_state=42)"
   ]
  },
  {
   "cell_type": "code",
   "execution_count": 10,
   "id": "2873696b",
   "metadata": {},
   "outputs": [],
   "source": [
    "x_train = torch.FloatTensor(np.array(x_train))\n",
    "y_train = torch.FloatTensor(np.array(y_train))\n",
    "\n",
    "x_test = torch.FloatTensor(np.array(x_test))\n",
    "y_test = torch.FloatTensor(np.array(y_test))"
   ]
  },
  {
   "cell_type": "markdown",
   "id": "18aae56f",
   "metadata": {},
   "source": [
    "Будем обучать нашу сеть батчами размера `batch_size`, так как данных уже довольно много"
   ]
  },
  {
   "cell_type": "code",
   "execution_count": 11,
   "id": "062f18ec",
   "metadata": {},
   "outputs": [],
   "source": [
    "train_dataset = TensorDataset(x_train, y_train)\n",
    "test_dataset = TensorDataset(x_test, y_test)\n",
    "\n",
    "batch_size = int(len(train_dataset) * 0.1)\n",
    "train_loader = DataLoader(train_dataset, batch_size)"
   ]
  },
  {
   "cell_type": "markdown",
   "id": "18d7b31e",
   "metadata": {},
   "source": [
    "Создадим класс слоя радиально-базисной функции (РБФ)"
   ]
  },
  {
   "cell_type": "code",
   "execution_count": 12,
   "id": "8b510f50",
   "metadata": {},
   "outputs": [],
   "source": [
    "# норма\n",
    "def l_norm(x, p=2):\n",
    "    return torch.norm(x, p=p, dim=-1)\n",
    "\n",
    "# радиально-базисная функция (мультиквадратичная)\n",
    "def rbf_multiquadric(x):\n",
    "    return (1 + x.pow(2)).sqrt()"
   ]
  },
  {
   "cell_type": "code",
   "execution_count": 13,
   "id": "da870811",
   "metadata": {},
   "outputs": [],
   "source": [
    "class RBFLayer(nn.Module):\n",
    "    def __init__(self, in_features: int, num_kernels: int, out_features: int):\n",
    "        super(RBFLayer, self).__init__()\n",
    "        self.in_features = in_features\n",
    "        self.num_kernels = num_kernels \n",
    "        self.out_features = out_features\n",
    "        self._make_parameters()\n",
    "\n",
    "    def _make_parameters(self):\n",
    "        self.weights = nn.Parameter(torch.zeros(self.out_features, self.num_kernels, dtype=torch.float32))\n",
    "        self.kernels_centers = nn.Parameter(torch.zeros(self.num_kernels, self.in_features, dtype=torch.float32))\n",
    "        self.log_shapes = nn.Parameter(torch.zeros(self.num_kernels, dtype=torch.float32))\n",
    "        self.reset()\n",
    "\n",
    "    def reset(self, upper_bound_kernels: float = 1.0, std_shapes: float = 0.1, gain_weights: float = 1.0):\n",
    "        nn.init.uniform_(self.kernels_centers, a=-upper_bound_kernels, b=upper_bound_kernels)\n",
    "        nn.init.normal_(self.log_shapes, mean=0.0, std=std_shapes)\n",
    "        nn.init.xavier_uniform_(self.weights, gain=gain_weights)\n",
    "\n",
    "    def forward(self, input: torch.Tensor):\n",
    "        batch_size = input.size(0)\n",
    "\n",
    "        # рассчитывам расстояния до центров\n",
    "        mu = self.kernels_centers.expand(batch_size, self.num_kernels, self.in_features)\n",
    "        diff = input.view(batch_size, 1, self.in_features) - mu\n",
    "\n",
    "        # применяем нормировочную функцию\n",
    "        r = l_norm(diff)\n",
    "\n",
    "        # применяем параметр формы\n",
    "        eps_r = self.log_shapes.exp().expand(batch_size, self.num_kernels) * r\n",
    "\n",
    "        # применяем радиально-базисную функцию\n",
    "        rbfs = rbf_multiquadric(eps_r)\n",
    "\n",
    "        # в качестве ответа даем линейную комбинацию\n",
    "        out = self.weights.expand(batch_size, self.out_features, self.num_kernels) * rbfs.view(batch_size, 1, self.num_kernels)\n",
    "\n",
    "        return out.sum(dim=-1)\n",
    "\n",
    "    @property\n",
    "    def get_kernels_centers(self):\n",
    "        return self.kernels_centers.detach()\n",
    "\n",
    "    @property\n",
    "    def get_weights(self):\n",
    "        return self.weights.detach()\n",
    "\n",
    "    @property\n",
    "    def get_shapes(self):\n",
    "        return self.log_shapes.detach().exp()"
   ]
  },
  {
   "cell_type": "markdown",
   "id": "b61b3dbb",
   "metadata": {},
   "source": [
    "Наша сеть будет принимать на вход два признака, координаты (x, y), а на выходе будет выдавать три значения в диапазоне `[0, 1]`, чтобы их можно было интерпретировать как цветовую компоненту RGB. \n",
    "\n",
    "В качестве функции потерь берем `nn.MSELoss()`"
   ]
  },
  {
   "cell_type": "code",
   "execution_count": 14,
   "id": "7f5d47ea",
   "metadata": {},
   "outputs": [],
   "source": [
    "rbf_net_classifier = RBFLayer(2, 10, 3)\n",
    "loss_function = nn.MSELoss()\n",
    "# optimizer = torch.optim.SGD(multilayer_net.parameters(), lr=0.05)\n",
    "optimizer = torch.optim.Adam(rbf_net_classifier.parameters())"
   ]
  },
  {
   "cell_type": "markdown",
   "id": "18bdfa4d",
   "metadata": {},
   "source": [
    "Определим функцию обучения на батчах"
   ]
  },
  {
   "cell_type": "code",
   "execution_count": 15,
   "id": "5e2a6596",
   "metadata": {},
   "outputs": [],
   "source": [
    "def fit(model, train_loader, criterion, optimizer, epochs):\n",
    "    losses = []\n",
    "\n",
    "    running_loss = 0.0\n",
    "    processed_data = 0\n",
    "\n",
    "    log_template = \"\\nEpoch {ep:03d} train_loss: {t_loss:0.4f}\"\n",
    "    with tqdm(desc=\"epoch\", total=epochs) as pbar_outer:\n",
    "        for epoch in range(epochs):\n",
    "            for inputs, labels in train_loader:\n",
    "                optimizer.zero_grad()\n",
    "                outp = model(inputs)\n",
    "\n",
    "                loss = criterion(outp, labels)\n",
    "\n",
    "                loss.backward()\n",
    "                optimizer.step()\n",
    "\n",
    "                running_loss += loss.item() * inputs.size(0)\n",
    "                processed_data += inputs.size(0)\n",
    "\n",
    "            train_loss = running_loss / processed_data\n",
    "            losses.append(train_loss)\n",
    "            pbar_outer.update(1)\n",
    "            tqdm.write(log_template.format(ep=epoch+1, t_loss=loss))\n",
    "    return losses"
   ]
  },
  {
   "cell_type": "markdown",
   "id": "f1c0fa3c",
   "metadata": {},
   "source": [
    "А также определим функцию предсказания"
   ]
  },
  {
   "cell_type": "code",
   "execution_count": 16,
   "id": "cd5109a6",
   "metadata": {},
   "outputs": [],
   "source": [
    "def predict(model, x_test):\n",
    "    with torch.no_grad():\n",
    "        model.eval()\n",
    "        outp = model(x_test)\n",
    "    return outp"
   ]
  },
  {
   "cell_type": "markdown",
   "id": "2ce8a757",
   "metadata": {},
   "source": [
    "Обучим модель"
   ]
  },
  {
   "cell_type": "code",
   "execution_count": null,
   "id": "9d56a9b3",
   "metadata": {},
   "outputs": [],
   "source": [
    "losses = fit(rbf_net_classifier, train_loader, loss_function, optimizer, 2500)"
   ]
  },
  {
   "cell_type": "markdown",
   "id": "7d20c51b",
   "metadata": {},
   "source": [
    "Посмотрим на график функции потерь, вычисляющей `MSE` между исходными и полученными данными"
   ]
  },
  {
   "cell_type": "code",
   "execution_count": 18,
   "id": "00926dc9",
   "metadata": {},
   "outputs": [
    {
     "data": {
      "image/png": "[encoded data removed]",
      "text/plain": [
       "<Figure size 432x288 with 1 Axes>"
      ]
     },
     "metadata": {
      "needs_background": "light"
     },
     "output_type": "display_data"
    }
   ],
   "source": [
    "plt.plot(losses)\n",
    "plt.grid(True, which='both')\n",
    "plt.show()"
   ]
  },
  {
   "cell_type": "markdown",
   "id": "6f0812da",
   "metadata": {},
   "source": [
    "Теперь соберем предсказания модели для каждой точки области `[-1, 1] x [-1, 1]`"
   ]
  },
  {
   "cell_type": "code",
   "execution_count": 19,
   "id": "55482b16",
   "metadata": {},
   "outputs": [],
   "source": [
    "x_test = [[x, y] for x in np.linspace(-1, 1, 200) for y in np.linspace(-1, 1, 200)]\n",
    "\n",
    "x_test = torch.FloatTensor(np.array(x_test))\n",
    "\n",
    "predicted_RGB = predict(rbf_net_classifier, x_test)\n",
    "predicted_RGB = predicted_RGB.reshape((200, 200, 3))"
   ]
  },
  {
   "cell_type": "markdown",
   "id": "d90604a6",
   "metadata": {},
   "source": [
    "Теперь построим наши три класса"
   ]
  },
  {
   "cell_type": "code",
   "execution_count": 20,
   "id": "56f939ff",
   "metadata": {},
   "outputs": [
    {
     "data": {
      "image/png": "[encoded data removed]",
      "text/plain": [
       "<Figure size 432x288 with 1 Axes>"
      ]
     },
     "metadata": {
      "needs_background": "light"
     },
     "output_type": "display_data"
    }
   ],
   "source": [
    "plt.plot(x1, y1)\n",
    "plt.plot(x2, y2)\n",
    "plt.plot(x3, y3)\n",
    "plt.gca().set_aspect(1)\n",
    "\n",
    "plt.grid(True, which='both')\n",
    "plt.axhline(y=0, color='k')\n",
    "plt.axvline(x=0, color='k')\n",
    "\n",
    "plt.show()"
   ]
  },
  {
   "cell_type": "markdown",
   "id": "64ecd0c6",
   "metadata": {},
   "source": [
    "И посмотрим на цветовое представление того, как наша сеть справилась с разделением области на три класса, которые линейно неразделимы"
   ]
  },
  {
   "cell_type": "code",
   "execution_count": 22,
   "id": "7370462a",
   "metadata": {},
   "outputs": [
    {
     "name": "stderr",
     "output_type": "stream",
     "text": [
      "Clipping input data to the valid range for imshow with RGB data ([0..1] for floats or [0..255] for integers).\n"
     ]
    },
    {
     "data": {
      "image/png": "[encoded data removed]",
      "text/plain": [
       "<Figure size 432x288 with 1 Axes>"
      ]
     },
     "metadata": {
      "needs_background": "light"
     },
     "output_type": "display_data"
    }
   ],
   "source": [
    "plt.imshow(predicted_RGB)\n",
    "plt.gca().invert_yaxis()\n",
    "\n",
    "plt.show()"
   ]
  },
  {
   "cell_type": "markdown",
   "id": "ed78574f",
   "metadata": {},
   "source": [
    "Теперь перейдем к задаче аппроксимации функции. Создадим разреженную дискретную версию нашей исходной функции и будем использовать ее для обучения, чтобы потом получить при увеличенни шага приближение исходной функции"
   ]
  },
  {
   "cell_type": "code",
   "execution_count": 23,
   "id": "3aeec1b3",
   "metadata": {},
   "outputs": [],
   "source": [
    "def function(t):\n",
    "    return np.cos(-3 * t**2 + 5 * t + 10)"
   ]
  },
  {
   "cell_type": "code",
   "execution_count": 24,
   "id": "76850011",
   "metadata": {},
   "outputs": [],
   "source": [
    "t1 = np.linspace(0, 2.5, 150)\n",
    "f1 = function(t1)\n",
    "\n",
    "t2 = np.linspace(0, 2.5, 2000)\n",
    "f2 = function(t2)"
   ]
  },
  {
   "cell_type": "code",
   "execution_count": 25,
   "id": "a51d681e",
   "metadata": {},
   "outputs": [],
   "source": [
    "x_train2 = torch.FloatTensor(t1)\n",
    "y_train2 = torch.FloatTensor(f1)\n",
    "\n",
    "x_train2 = x_train2.view(-1, 1)\n",
    "y_train2 = y_train2.view(-1, 1)\n",
    "train_dataset2 = TensorDataset(x_train2, y_train2)\n",
    "\n",
    "x_test2 = torch.FloatTensor(t2)\n",
    "x_test2 = x_test2.view(-1, 1)"
   ]
  },
  {
   "cell_type": "markdown",
   "id": "da96c408",
   "metadata": {},
   "source": [
    "Наша сеть будет принимать на вход один признак, координату x, а на выходе будет выдавать значение функции в этой точке. \n",
    "\n",
    "В качестве функции потерь берем `nn.MSELoss()`"
   ]
  },
  {
   "cell_type": "code",
   "execution_count": 26,
   "id": "70ca31c3",
   "metadata": {},
   "outputs": [],
   "source": [
    "rbf_net_approximator = RBFLayer(1, 35, 1)\n",
    "loss_function = nn.MSELoss()\n",
    "# optimizer = torch.optim.SGD(multilayer_net.parameters(), lr=0.05)\n",
    "optimizer = torch.optim.Adam(rbf_net_approximator.parameters())"
   ]
  },
  {
   "cell_type": "markdown",
   "id": "0e4adc12",
   "metadata": {},
   "source": [
    "Будем обучать нашу сеть батчами размера `batch_size`, так как данных уже довольно много"
   ]
  },
  {
   "cell_type": "code",
   "execution_count": 27,
   "id": "7300279d",
   "metadata": {},
   "outputs": [],
   "source": [
    "batch_size = 10\n",
    "train_loader2 = DataLoader(train_dataset2, batch_size)"
   ]
  },
  {
   "cell_type": "markdown",
   "id": "59fae021",
   "metadata": {},
   "source": [
    "Обучим модель"
   ]
  },
  {
   "cell_type": "code",
   "execution_count": null,
   "id": "e293b7e7",
   "metadata": {},
   "outputs": [],
   "source": [
    "losses2 = fit(rbf_net_approximator, train_loader2, loss_function, optimizer, 2500)"
   ]
  },
  {
   "cell_type": "markdown",
   "id": "ae8fdd0a",
   "metadata": {},
   "source": [
    "Посмотрим на график функции потерь, вычисляющей `MSE` между исходными и полученными данными"
   ]
  },
  {
   "cell_type": "code",
   "execution_count": 29,
   "id": "d0b6dd58",
   "metadata": {},
   "outputs": [
    {
     "data": {
      "image/png": "[encoded data removed]",
      "text/plain": [
       "<Figure size 432x288 with 1 Axes>"
      ]
     },
     "metadata": {
      "needs_background": "light"
     },
     "output_type": "display_data"
    }
   ],
   "source": [
    "plt.plot(losses2)\n",
    "plt.grid(True, which='both')\n",
    "plt.show()"
   ]
  },
  {
   "cell_type": "markdown",
   "id": "d67f2115",
   "metadata": {},
   "source": [
    "Cоберем предсказания модели"
   ]
  },
  {
   "cell_type": "code",
   "execution_count": 30,
   "id": "d6078b2c",
   "metadata": {},
   "outputs": [],
   "source": [
    "f2_pred = predict(rbf_net_approximator, x_test2)"
   ]
  },
  {
   "cell_type": "markdown",
   "id": "0fee3253",
   "metadata": {},
   "source": [
    "И предсказания в центрах РБФ"
   ]
  },
  {
   "cell_type": "code",
   "execution_count": 31,
   "id": "9e35d5dc",
   "metadata": {},
   "outputs": [],
   "source": [
    "mu_x = rbf_net_approximator.get_kernels_centers\n",
    "mu_y = predict(rbf_net_approximator, mu_x)"
   ]
  },
  {
   "cell_type": "markdown",
   "id": "b7b43e73",
   "metadata": {},
   "source": [
    "Теперь визуализируем полученные результаты и сравним приближение, разреженный вариант и истинную функцию "
   ]
  },
  {
   "cell_type": "code",
   "execution_count": 32,
   "id": "608f8a4e",
   "metadata": {},
   "outputs": [
    {
     "data": {
      "image/png": "[encoded data removed]",
      "text/plain": [
       "<Figure size 432x288 with 1 Axes>"
      ]
     },
     "metadata": {
      "needs_background": "light"
     },
     "output_type": "display_data"
    }
   ],
   "source": [
    "plt.plot(t1, f1, '.', label='разреженная функция')\n",
    "\n",
    "plt.grid(True, which='both')\n",
    "plt.axhline(y=0, color='k')\n",
    "plt.axvline(x=0, color='k')\n",
    "\n",
    "plt.legend()\n",
    "plt.show()"
   ]
  },
  {
   "cell_type": "code",
   "execution_count": 33,
   "id": "38dfbc7e",
   "metadata": {},
   "outputs": [
    {
     "data": {
      "image/png": "[encoded data removed]",
      "text/plain": [
       "<Figure size 432x288 with 1 Axes>"
      ]
     },
     "metadata": {
      "needs_background": "light"
     },
     "output_type": "display_data"
    }
   ],
   "source": [
    "plt.plot(t2, f2, color=\"green\", label='истинная функция')\n",
    "plt.plot(t2, f2_pred, color=\"red\", label='предсказанная функция')\n",
    "plt.scatter(mu_x, mu_y, color=\"purple\", marker='*', label='Центры РБФ')\n",
    "\n",
    "plt.grid(True, which='both')\n",
    "plt.axhline(y=0, color='k')\n",
    "plt.axvline(x=0, color='k')\n",
    "\n",
    "plt.legend()\n",
    "plt.show()"
   ]
  },
  {
   "cell_type": "markdown",
   "id": "01384e85",
   "metadata": {},
   "source": [
    "`Выводы:` в ходе данной работы была построена сеть основанная на радиально-базисной функции, которая была использована для решения двух типов задач:\n",
    "- классификация (линейно неразделимые данные)\n",
    "- аппроксимация\n",
    "\n",
    "После обучения (`2500` эпох) были получены довольно неплохие результаты"
   ]
  }
 ],
 "metadata": {
  "kernelspec": {
   "display_name": "Python 3 (ipykernel)",
   "language": "python",
   "name": "python3"
  },
  "language_info": {
   "codemirror_mode": {
    "name": "ipython",
    "version": 3
   },
   "file_extension": ".py",
   "mimetype": "text/x-python",
   "name": "python",
   "nbconvert_exporter": "python",
   "pygments_lexer": "ipython3",
   "version": "3.9.7"
  },
  "vscode": {
   "interpreter": {
    "hash": "ff4f85d6e04298634172ac5d8264e7e9b556b95639fe52ebb9425c4d4cba0c9c"
   }
  }
 },
 "nbformat": 4,
 "nbformat_minor": 5
}
