{
 "cells": [
  {
   "cell_type": "markdown",
   "id": "fffafa9c",
   "metadata": {},
   "source": [
    "# Лабораторная работа № 1\n",
    "## Персептроны. Процедура обучения Розенблатта\n",
    "\n",
    "`Цель работы:` исследование свойств персептрона Розенблатта и его применение для решения задачи распознавания образов\n",
    "\n",
    "|Студент| Мариничев И.А.|\n",
    "|-|-|\n",
    "|**Группа**| **М8О-408Б-19**|\n",
    "|**Вариант**| **5**|"
   ]
  },
  {
   "cell_type": "markdown",
   "id": "65ab7a18",
   "metadata": {},
   "source": [
    "Импортируем нужные библиотеки"
   ]
  },
  {
   "cell_type": "code",
   "execution_count": 1,
   "id": "ea266536",
   "metadata": {},
   "outputs": [],
   "source": [
    "import numpy as np\n",
    "\n",
    "import torch\n",
    "import torch.nn as nn\n",
    "\n",
    "from tqdm import tqdm\n",
    "\n",
    "import matplotlib.pyplot as plt"
   ]
  },
  {
   "cell_type": "markdown",
   "id": "2d7d2b12",
   "metadata": {},
   "source": [
    "Определим первые две группы точек"
   ]
  },
  {
   "cell_type": "code",
   "execution_count": 14,
   "id": "fd906aae",
   "metadata": {},
   "outputs": [],
   "source": [
    "x1 = [0.3, 4.9, -0.9, 2.6, -4, -1.5]\n",
    "y1 = [2, -2.2, -0.4, 3.1, -3.3, -4.5]\n",
    "\n",
    "c1 = [0, 0, 1, 0, 1, 1]"
   ]
  },
  {
   "cell_type": "code",
   "execution_count": 15,
   "id": "2873696b",
   "metadata": {},
   "outputs": [],
   "source": [
    "x_train = torch.FloatTensor(np.array(list(zip(x1, y1))))\n",
    "y_train = torch.FloatTensor(np.array(c1))"
   ]
  },
  {
   "cell_type": "markdown",
   "id": "18d7b31e",
   "metadata": {},
   "source": [
    "Создадим класс персептрона, выполняющий перемножение матрицы весов и матрицы входа с прибавлением вектора смещения"
   ]
  },
  {
   "cell_type": "code",
   "execution_count": 16,
   "id": "a51364f3",
   "metadata": {},
   "outputs": [],
   "source": [
    "class Perceptron(nn.Module):\n",
    "    def __init__(self, in_features: int, out_features: int, bias: bool = True):\n",
    "        super().__init__()\n",
    "        self.weights = nn.Parameter(torch.randn(in_features, out_features))\n",
    "        self.bias = bias\n",
    "        if bias:\n",
    "            self.bias_term = nn.Parameter(torch.randn(out_features))\n",
    "\n",
    "    def forward(self, x):\n",
    "        x = x @ self.weights\n",
    "        if self.bias:\n",
    "            x += self.bias_term\n",
    "        return x"
   ]
  },
  {
   "cell_type": "markdown",
   "id": "b61b3dbb",
   "metadata": {},
   "source": [
    "Наш первый персептрон будет принимать на вход два признака, координаты (x, y), и иметь один выходной нейрон. В качестве функции потель берем `nn.L1Loss()`, так как она вычисляет `MAE`"
   ]
  },
  {
   "cell_type": "code",
   "execution_count": 17,
   "id": "7f5d47ea",
   "metadata": {},
   "outputs": [],
   "source": [
    "perceptron = Perceptron(2, 1)\n",
    "loss_function = nn.L1Loss()\n",
    "optimizer = torch.optim.SGD(perceptron.parameters(), lr=0.05)"
   ]
  },
  {
   "cell_type": "markdown",
   "id": "18bdfa4d",
   "metadata": {},
   "source": [
    "Определим функцию обучения для бинарной классификации"
   ]
  },
  {
   "cell_type": "code",
   "execution_count": 18,
   "id": "5e2a6596",
   "metadata": {},
   "outputs": [],
   "source": [
    "def fit(model, x_train, y_train, criterion, optimizer, epochs):\n",
    "    losses = []\n",
    "    log_template = \"\\nEpoch {ep:03d} train_loss: {t_loss:0.4f}\"\n",
    "    with tqdm(desc=\"epoch\", total=epochs) as pbar_outer:\n",
    "        for epoch in range(epochs):\n",
    "            optimizer.zero_grad()\n",
    "            outp = model(x_train)\n",
    "\n",
    "            probabilities = torch.sigmoid(outp.view(-1))\n",
    "            # preds = (probabilities > 0.5).type(torch.long)\n",
    "            loss = criterion(probabilities, y_train)\n",
    "\n",
    "            loss.backward()\n",
    "            losses.append(loss.detach().flatten()[0])\n",
    "            optimizer.step()\n",
    "\n",
    "            pbar_outer.update(1)\n",
    "            tqdm.write(log_template.format(ep=epoch+1, t_loss=loss))\n",
    "    return losses"
   ]
  },
  {
   "cell_type": "markdown",
   "id": "2ce8a757",
   "metadata": {},
   "source": [
    "Обучим модель"
   ]
  },
  {
   "cell_type": "code",
   "execution_count": null,
   "id": "9d56a9b3",
   "metadata": {},
   "outputs": [],
   "source": [
    "losses = fit(perceptron, x_train, y_train, loss_function, optimizer, 1000)"
   ]
  },
  {
   "cell_type": "markdown",
   "id": "7d20c51b",
   "metadata": {},
   "source": [
    "Посмотрим на график функции потерь, вычисляющий MAE между исходными и полученными данными"
   ]
  },
  {
   "cell_type": "code",
   "execution_count": 20,
   "id": "00926dc9",
   "metadata": {},
   "outputs": [
    {
     "data": {
      "image/png": "[encoded data removed]",
      "text/plain": [
       "<Figure size 432x288 with 1 Axes>"
      ]
     },
     "metadata": {
      "needs_background": "light"
     },
     "output_type": "display_data"
    }
   ],
   "source": [
    "plt.plot(losses)\n",
    "plt.show()"
   ]
  },
  {
   "cell_type": "code",
   "execution_count": 21,
   "id": "55482b16",
   "metadata": {},
   "outputs": [],
   "source": [
    "current_weights = perceptron.weights.detach().clone()\n",
    "w = current_weights.flatten().numpy()\n",
    "\n",
    "current_bias = perceptron.bias_term.detach().clone()\n",
    "b = current_bias.flatten().numpy()"
   ]
  },
  {
   "cell_type": "markdown",
   "id": "d90604a6",
   "metadata": {},
   "source": [
    "И посмотрим на разделяющую прямую"
   ]
  },
  {
   "cell_type": "code",
   "execution_count": 22,
   "id": "56f939ff",
   "metadata": {},
   "outputs": [
    {
     "data": {
      "image/png": "[encoded data removed]",
      "text/plain": [
       "<Figure size 432x288 with 1 Axes>"
      ]
     },
     "metadata": {
      "needs_background": "light"
     },
     "output_type": "display_data"
    }
   ],
   "source": [
    "X = np.linspace(-10, 10, 100)\n",
    "\n",
    "def discriminant(x):\n",
    "    return (-x * w[0] - b[0])/w[1]\n",
    "\n",
    "plt.plot(X, discriminant(X), \"red\")\n",
    "\n",
    "plt.grid(True, which='both')\n",
    "plt.axhline(y=0, color='k')\n",
    "plt.axvline(x=0, color='k')\n",
    "\n",
    "for x, y, c in list(zip(x1, y1, y_train)):\n",
    "    if (c == 1):\n",
    "        plt.scatter(x, y, c=\"blue\")\n",
    "    else:\n",
    "        plt.scatter(x, y, c=\"green\")\n",
    "\n",
    "plt.show()"
   ]
  },
  {
   "cell_type": "markdown",
   "id": "ed78574f",
   "metadata": {},
   "source": [
    "Повторим аналогичный процесс для 4-х классового случая"
   ]
  },
  {
   "cell_type": "markdown",
   "id": "e8e53212",
   "metadata": {},
   "source": [
    "Определим группы точек"
   ]
  },
  {
   "cell_type": "code",
   "execution_count": 2,
   "id": "76850011",
   "metadata": {},
   "outputs": [],
   "source": [
    "x2 = [-3.5, -0.7, 1.1, 3.6, 4, 0.1, 0.5, 2.6]\n",
    "y2 = [-4.9, 3.3, 0.2, -4.1, -4, -3.6, -5, 3.4]\n",
    "\n",
    "\n",
    "c2_1 = [1, 0, 0, 0, 0, 1, 1, 0]\n",
    "c2_2 = [0, 0, 0, 1, 1, 0, 0, 0]"
   ]
  },
  {
   "cell_type": "code",
   "execution_count": 3,
   "id": "a51d681e",
   "metadata": {},
   "outputs": [],
   "source": [
    "x_train2 = torch.FloatTensor(np.array(list(zip(x2, y2))))\n",
    "y_train2 = torch.FloatTensor(np.array(list(zip(c2_1, c2_2))))"
   ]
  },
  {
   "cell_type": "markdown",
   "id": "72afc13f",
   "metadata": {},
   "source": [
    "Наш второй персептрон будет принимать на вход два признака, координаты (x, y) и иметь два выходных нейрона"
   ]
  },
  {
   "cell_type": "code",
   "execution_count": 6,
   "id": "70ca31c3",
   "metadata": {},
   "outputs": [],
   "source": [
    "perceptron2 = Perceptron(2, 2)\n",
    "loss_function = nn.L1Loss()\n",
    "optimizer = torch.optim.SGD(perceptron2.parameters(), lr=0.05)"
   ]
  },
  {
   "cell_type": "markdown",
   "id": "2b228ac8",
   "metadata": {},
   "source": [
    "Определим функцию обучения для многоклассовой классификации"
   ]
  },
  {
   "cell_type": "code",
   "execution_count": 7,
   "id": "676a62b0",
   "metadata": {},
   "outputs": [],
   "source": [
    "def fit2(model, x_train, y_train, criterion, optimizer, epochs):\n",
    "    losses = []\n",
    "    log_template = \"\\nEpoch {ep:03d} train_loss: {t_loss:0.4f}\"\n",
    "    with tqdm(desc=\"epoch\", total=epochs) as pbar_outer:\n",
    "        for epoch in range(epochs):\n",
    "            optimizer.zero_grad()\n",
    "            outp = model(x_train)\n",
    "\n",
    "            probaba = torch.sigmoid(outp)\n",
    "\n",
    "            loss1 = criterion(probaba[:, 0], y_train[:, 0])\n",
    "            loss2 = criterion(probaba[:, 1], y_train[:, 1])\n",
    "            loss = loss1 + loss2\n",
    "\n",
    "            loss.backward()\n",
    "            losses.append(loss.detach().flatten()[0])\n",
    "            optimizer.step()\n",
    "\n",
    "            pbar_outer.update(1)\n",
    "            tqdm.write(log_template.format(ep=epoch+1, t_loss=loss))\n",
    "    return losses"
   ]
  },
  {
   "cell_type": "markdown",
   "id": "4cf1be37",
   "metadata": {},
   "source": [
    "Обучим модель"
   ]
  },
  {
   "cell_type": "code",
   "execution_count": null,
   "id": "e293b7e7",
   "metadata": {},
   "outputs": [],
   "source": [
    "losses2 = fit2(perceptron2, x_train2, y_train2, loss_function, optimizer, 1000)"
   ]
  },
  {
   "cell_type": "markdown",
   "id": "7d20c51b",
   "metadata": {},
   "source": [
    "Посмотрим на график функции потерь, вычисляющий MAE между исходными и полученными данными"
   ]
  },
  {
   "cell_type": "code",
   "execution_count": 9,
   "id": "d0b6dd58",
   "metadata": {},
   "outputs": [
    {
     "data": {
      "image/png": "[encoded data removed]",
      "text/plain": [
       "<Figure size 432x288 with 1 Axes>"
      ]
     },
     "metadata": {
      "needs_background": "light"
     },
     "output_type": "display_data"
    }
   ],
   "source": [
    "plt.plot(losses2)\n",
    "plt.show()"
   ]
  },
  {
   "cell_type": "code",
   "execution_count": 10,
   "id": "d6078b2c",
   "metadata": {},
   "outputs": [],
   "source": [
    "current_weights = perceptron2.weights.detach().clone()\n",
    "w = current_weights.numpy()\n",
    "\n",
    "current_bias = perceptron2.bias_term.detach().clone()\n",
    "b = current_bias.numpy()"
   ]
  },
  {
   "cell_type": "code",
   "execution_count": null,
   "id": "b593b82f",
   "metadata": {},
   "outputs": [],
   "source": [
    "def reverse_one_hot(arr):\n",
    "    arr_new = []\n",
    "\n",
    "    for i, y in enumerate(arr):\n",
    "        arr_new.append(int(str(y[0]) + str(y[1]), 2))\n",
    "\n",
    "    return np.array(arr_new)"
   ]
  },
  {
   "cell_type": "markdown",
   "id": "d90604a6",
   "metadata": {},
   "source": [
    "И посмотрим на разделяющие прямые"
   ]
  },
  {
   "cell_type": "code",
   "execution_count": 13,
   "id": "608f8a4e",
   "metadata": {},
   "outputs": [
    {
     "data": {
      "image/png": "[encoded data removed]",
      "text/plain": [
       "<Figure size 432x288 with 1 Axes>"
      ]
     },
     "metadata": {
      "needs_background": "light"
     },
     "output_type": "display_data"
    }
   ],
   "source": [
    "X = np.linspace(-10, 10, 100)\n",
    "\n",
    "def discriminant1(x):\n",
    "    return (-x * w[0][0] - b[0]) / w[1][0]\n",
    "\n",
    "def discriminant2(x):\n",
    "    return (-x * w[0][1] - b[0]) / w[1][1]\n",
    "\n",
    "plt.plot(X, discriminant1(X), \"red\")\n",
    "plt.plot(X, discriminant2(X), \"red\")\n",
    "\n",
    "\n",
    "plt.grid(True, which='both')\n",
    "plt.axhline(y=0, color='k')\n",
    "plt.axvline(x=0, color='k')\n",
    "\n",
    "y_train2 = reverse_one_hot(y_train2.to(torch.int).numpy())\n",
    "for x, y, c in list(zip(x2, y2, y_train2)):\n",
    "    if (c == 0):\n",
    "        plt.scatter(x, y, c=\"blue\")\n",
    "    elif (c == 1):\n",
    "        plt.scatter(x, y, c=\"green\")\n",
    "    elif (c == 2):\n",
    "        plt.scatter(x, y, c=\"orange\")\n",
    "    else:\n",
    "        plt.scatter(x, y, c=\"pink\")\n",
    "\n",
    "plt.show()"
   ]
  },
  {
   "cell_type": "markdown",
   "id": "01384e85",
   "metadata": {},
   "source": [
    "`Выводы:` в ходе данной работы была построена модель персептрона Розенблатта, которая после обучения справилась с задачей разделения как двух классов точек, так и 4-х классов, учитывая что данные были линейно разделимы"
   ]
  }
 ],
 "metadata": {
  "kernelspec": {
   "display_name": "Python 3 (ipykernel)",
   "language": "python",
   "name": "python3"
  },
  "language_info": {
   "codemirror_mode": {
    "name": "ipython",
    "version": 3
   },
   "file_extension": ".py",
   "mimetype": "text/x-python",
   "name": "python",
   "nbconvert_exporter": "python",
   "pygments_lexer": "ipython3",
   "version": "3.9.7"
  },
  "vscode": {
   "interpreter": {
    "hash": "ff4f85d6e04298634172ac5d8264e7e9b556b95639fe52ebb9425c4d4cba0c9c"
   }
  }
 },
 "nbformat": 4,
 "nbformat_minor": 5
}
